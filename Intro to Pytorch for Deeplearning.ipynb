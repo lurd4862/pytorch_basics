{
 "cells": [
  {
   "cell_type": "markdown",
   "metadata": {},
   "source": [
    "## This notebook is designed to give a friendly introduction to pytorch\n",
    "\n",
    "There are many different deeplearning tools currently out there.\n",
    "\n",
    "My personal best are Keras and Pytorch. \n",
    "\n",
    "Why Pytorch over tensorflow? Tensorflow is way too low level for most people... And why go low level if the library itself already obfuscates the math from us? Well, because some people want to write their own tensor operations.\n",
    "\n",
    "But don't worry, the complexity is not worth it for most of us who want 20% of the effor and 80% of the results. We can still have access to many low level features using great packages like pytorch and have almost all the benefits.\n",
    "\n",
    "### Why Pytorch?\n",
    "\n",
    "Pytorch is in my opinion almost as intuitive as Keras but still lets you utilize python syntax and structures.\n",
    "\n",
    "This means everything from the objects to the loops will look very familiar to a python coder.\n",
    "\n",
    "Furthermore, running the training procedures using python loops means the process is not compiled and sent as a job like Keras. Instead we can write python functions to be applied each iteration for early stopping or even changing the network!\n",
    "\n",
    "### Where do we start?\n",
    "\n",
    "(make sure you have installed all the depenencies for using your graphics card - nvidia, cuda, cudann)\n",
    "\n",
    "Create yourself a python environment for all your pytorch environments, in my case;  \n",
    "\n",
    "conda create -n pytorch python=3\n",
    "\n",
    "source activate pytorch\n",
    "\n",
    "ipython kernel install --user --name=pytorch\n",
    "\n",
    "I used miniconda to do this. At this point you have opened a shell inside the container to install all the tools users for this environment will need.\n",
    "\n",
    "Using ipython to create the kernel you can run from this environment inside a jupyter notebook\n",
    "\n",
    "First things first. Head over to the pytorch webpage and specify your installation;  \n",
    "<https://pytorch.org/>\n",
    "\n",
    "I had cuda 9 with the cudann 7.1 libraries so I run:  \n",
    "\n",
    "conda install pytorch torchvision cudatoolkit=9.0 -c pytorch\n",
    "\n",
    "Aaaaaaand that's it. No seriously... I have wasted away precious nights trying to get garbage tensorflow installations setup with python environments. But pytorch is amazing at compatibility!\n",
    "\n",
    "Don't believe me? Open jupyter-notebook inside a testing folder and try my code."
   ]
  },
  {
   "cell_type": "markdown",
   "metadata": {},
   "source": [
    "### Hello world example, except I tell you those things they never really mention :)\n",
    "\n",
    "Hop over to the following link and you will find the first pytorch introduction:\n",
    "\n",
    "<https://pytorch.org/tutorials/beginner/blitz/cifar10_tutorial.html#sphx-glr-beginner-blitz-cifar10-tutorial-py>\n",
    "\n",
    "We will run the example so keep this page open, there is no need for me to duplicate work... These people are obviously fantastic and did a great job. I will help you with the context you don't actually know yet, the annoying pupil asking \"but... where did x come from\". You know who I'm talking about ;)\n",
    "\n",
    "This example is a classification model. Like any other classifier really, but the input for this classifier is a collection of images, each with a label to predict"
   ]
  },
  {
   "cell_type": "code",
   "execution_count": 1,
   "metadata": {},
   "outputs": [],
   "source": [
    "import torch\n",
    "import torchvision\n",
    "import torchvision.transforms as transforms"
   ]
  },
  {
   "cell_type": "code",
   "execution_count": 2,
   "metadata": {},
   "outputs": [
    {
     "data": {
      "text/plain": [
       "True"
      ]
     },
     "execution_count": 2,
     "metadata": {},
     "output_type": "execute_result"
    }
   ],
   "source": [
    "torch.cuda.is_available()"
   ]
  },
  {
   "cell_type": "code",
   "execution_count": 3,
   "metadata": {},
   "outputs": [
    {
     "data": {
      "text/plain": [
       "'GeForce GTX 1070'"
      ]
     },
     "execution_count": 3,
     "metadata": {},
     "output_type": "execute_result"
    }
   ],
   "source": [
    "torch.cuda.current_device()\n",
    "\n",
    "torch.cuda.set_device(0)\n",
    "\n",
    "torch.cuda.get_device_name(0)"
   ]
  },
  {
   "cell_type": "markdown",
   "metadata": {},
   "source": [
    "Nothing to ask here, copy paste. You don't need to understand what these are quite yet..."
   ]
  },
  {
   "cell_type": "code",
   "execution_count": 4,
   "metadata": {},
   "outputs": [],
   "source": [
    "transform = transforms.Compose(\n",
    "    [transforms.ToTensor(),\n",
    "     transforms.Normalize((0.5, 0.5, 0.5), (0.5, 0.5, 0.5))])"
   ]
  },
  {
   "cell_type": "markdown",
   "metadata": {},
   "source": [
    "Okay... I know python right? So a function, we give it a list... Each element is another function.\n",
    "\n",
    "Help me out here.\n",
    "\n",
    "`transforms.Compose` is a function from `torchvision` - a library only concerned with dealing with images...\n",
    "\n",
    "This function helps define a pipeline of operations that are performed on a image or collection of immages.\n",
    "\n",
    "One of the hardest parts of building a deep learning model is preparing the data. This will make things very easy for us!\n",
    "\n",
    "We give `transforms.Compose` a list of opperations, in sequential order, that we want to apply.\n",
    "\n",
    "The first operation is `transforms.ToTensor()`. This is straight forward, turn the data you recieve into a tensor. Tensors are special ndarrays (like n dimensional matrices, they run well on GPU)\n",
    "\n",
    "The second operation is `transforms.Normalize`. It does what it says... Notice here that most images have width * height * color. Color is RGB so this image as a ndarray has 3 dimensions. We specify a mean for each dimension, and then a sd for each dimension (2 tuples of 0.5)"
   ]
  },
  {
   "cell_type": "code",
   "execution_count": 21,
   "metadata": {},
   "outputs": [
    {
     "name": "stdout",
     "output_type": "stream",
     "text": [
      "Files already downloaded and verified\n",
      "Files already downloaded and verified\n"
     ]
    }
   ],
   "source": [
    "trainset = torchvision.datasets.CIFAR10(root='./data', train=True,\n",
    "                                        download=True, transform=transform)\n",
    "trainloader = torch.utils.data.DataLoader(trainset, batch_size=4,\n",
    "                                          shuffle=True, num_workers=2)\n",
    "\n",
    "testset = torchvision.datasets.CIFAR10(root='./data', train=False,\n",
    "                                       download=True, transform=transform)\n",
    "testloader = torch.utils.data.DataLoader(testset, batch_size=4,\n",
    "                                         shuffle=False, num_workers=2)"
   ]
  },
  {
   "cell_type": "markdown",
   "metadata": {},
   "source": [
    "You could take this at face value... It gets data and creates interables that we can loop over to get the X and y pairs for training.\n",
    "\n",
    "But this is a dumb way to learn! We want to be lazy, not dumb. Do things simply, understand them well.\n",
    "\n",
    "What is REALLY happening here? Black magic?\n",
    "\n",
    "`torchvision.datasets.CIFAR10`\n",
    "\n",
    "There are many built in datasets you can access when learning pytorch. You can download them automatically. Pay careful attention however to how these are downloaded. This structure is the recommended structure for training using immages;  \n",
    "- Root folder e.g. data  \n",
    "- Batches folder  \n",
    "- data batches and test batches\n",
    "\n",
    "The CIFAR-10 dataset consists of 60000 32x32 colour images in 10 classes, with 6000 images per class. There are 50000 training images and 10000 test images. \n",
    "\n",
    "`torch.utils.data.DataLoader`  \n",
    "\n",
    "This function expects a location argument, batch size, shuffle, num_workers. \n",
    "\n",
    "Initial training learns basic features like edges or texture. You do not have to look at many simultaneous images to learn these things. A small batch size is fine. Once the network starts learning more complex features you can train faster with larger batch sizes. BUT larger batch sizes take more memory so be careful!\n",
    "\n",
    "A low level trick to get more of that data into memory is to convert the [0-1] input tensors as simpler data types for example float32 values to float16 values. But that I digres.\n",
    "\n",
    "While you are training you want to shuffle the order of inputs. Many passes over the data or if the data was already ordered may lead the network to learn some hidden bias and thus score worse on validation. No need to shuffle validation, no training happens here."
   ]
  },
  {
   "cell_type": "code",
   "execution_count": 6,
   "metadata": {},
   "outputs": [
    {
     "data": {
      "text/plain": [
       "Dataset CIFAR10\n",
       "    Number of datapoints: 50000\n",
       "    Split: train\n",
       "    Root Location: ./data\n",
       "    Transforms (if any): Compose(\n",
       "                             ToTensor()\n",
       "                             Normalize(mean=(0.5, 0.5, 0.5), std=(0.5, 0.5, 0.5))\n",
       "                         )\n",
       "    Target Transforms (if any): None"
      ]
     },
     "execution_count": 6,
     "metadata": {},
     "output_type": "execute_result"
    }
   ],
   "source": [
    "trainset"
   ]
  },
  {
   "cell_type": "markdown",
   "metadata": {},
   "source": [
    "Unfortunately this doesn't teach me how to do this if I had my own images? This is just a really nice wrapper for using pytorch data libraries...\n",
    "\n",
    "To learn how to process your own images go to;  \n",
    "<https://pytorch.org/tutorials/beginner/data_loading_tutorial.html>\n",
    "\n",
    "BUT now we understand the dimensions of the data and the size of each set."
   ]
  },
  {
   "cell_type": "code",
   "execution_count": 7,
   "metadata": {},
   "outputs": [],
   "source": [
    "classes = ('plane', 'car', 'bird', 'cat',\n",
    "           'deer', 'dog', 'frog', 'horse', 'ship', 'truck')"
   ]
  },
  {
   "cell_type": "code",
   "execution_count": 8,
   "metadata": {},
   "outputs": [],
   "source": [
    "%matplotlib inline  "
   ]
  },
  {
   "cell_type": "code",
   "execution_count": 9,
   "metadata": {},
   "outputs": [
    {
     "data": {
      "image/png": "[encoded data removed]",
      "text/plain": [
       "<Figure size 432x288 with 1 Axes>"
      ]
     },
     "metadata": {},
     "output_type": "display_data"
    },
    {
     "name": "stdout",
     "output_type": "stream",
     "text": [
      " bird   car   dog  deer\n"
     ]
    }
   ],
   "source": [
    "import matplotlib.pyplot as plt\n",
    "import numpy as np\n",
    "\n",
    "# functions to show an image\n",
    "\n",
    "\n",
    "def imshow(img):\n",
    "    img = img / 2 + 0.5     # unnormalize\n",
    "    npimg = img.numpy()\n",
    "    plt.imshow(np.transpose(npimg, (1, 2, 0)))\n",
    "    plt.show()\n",
    "\n",
    "\n",
    "# get some random training images\n",
    "dataiter = iter(trainloader)\n",
    "images, labels = dataiter.next()\n",
    "\n",
    "# show images\n",
    "imshow(torchvision.utils.make_grid(images))\n",
    "# print labels\n",
    "print(' '.join('%5s' % classes[labels[j]] for j in range(4)))"
   ]
  },
  {
   "cell_type": "markdown",
   "metadata": {},
   "source": [
    "Here we see a few tricks!\n",
    "\n",
    "1. `imshow` is addin back the mean and multiplying by the sd. This is common knowledge for anyone who understands denormalization.  \n",
    "2. `np.transpose` is called. Why? Well `Torch` and `matplotlib` have their own specification for channels first or channels last. By channels we mean number of dimensions for colors, in this case we are not gray scale, so 3 dimensions RGB and we want to swap the dimensions of our image.  \n",
    "3. `trainloder` can be used as a iterable to provide an image and a label (X and y).  "
   ]
  },
  {
   "cell_type": "code",
   "execution_count": 10,
   "metadata": {},
   "outputs": [],
   "source": [
    "import torch.nn as nn\n",
    "import torch.nn.functional as F\n",
    "\n",
    "\n",
    "class Net(nn.Module):\n",
    "    def __init__(self):\n",
    "        super(Net, self).__init__()\n",
    "        self.conv1 = nn.Conv2d(3, 6, 5)\n",
    "        self.pool = nn.MaxPool2d(2, 2)\n",
    "        self.conv2 = nn.Conv2d(6, 16, 5)\n",
    "        self.fc1 = nn.Linear(16 * 5 * 5, 120)\n",
    "        self.fc2 = nn.Linear(120, 84)\n",
    "        self.fc3 = nn.Linear(84, 10)\n",
    "\n",
    "    def forward(self, x):\n",
    "        x = self.pool(F.relu(self.conv1(x)))\n",
    "        x = self.pool(F.relu(self.conv2(x)))\n",
    "        x = x.view(-1, 16 * 5 * 5)\n",
    "        x = F.relu(self.fc1(x))\n",
    "        x = F.relu(self.fc2(x))\n",
    "        x = self.fc3(x)\n",
    "        return x\n",
    "\n",
    "\n",
    "net = Net()\n",
    "net = net.cuda()"
   ]
  },
  {
   "cell_type": "markdown",
   "metadata": {},
   "source": [
    "Pytorch feels just like python structures we are familiar with!\n",
    "\n",
    "We are creating a class or template. We can then create objects with this template.\n",
    "\n",
    "In the Net template we specify the layers we want in our network. We don't have to duplicate the same layers, we can just call these layers over and over again.\n",
    "\n",
    "We initialize the object with the convolutional layers and the fully connected layers (conv and fc).  \n",
    "\n",
    "We also initialize a layer for performing max pooling. \n",
    "\n",
    "These are just variables we can use in our object, the order is not important.\n",
    "\n",
    "We define the `forward` function for our class. This function specifies how the data will feed forward through our network.\n",
    "\n",
    "x here is the batch going into the network ( for our loader we will expect a batch of 4 images, each 32x32.  \n",
    "\n",
    "We do the convolution, apply rectified linear transformation and then finally perform the pooling.\n",
    "\n",
    "This is repeated usin the second convolution layer.\n",
    "\n",
    "Now we reshape the tensor data by completely flatening it like a vector or list of values. The output shape is important. `view(-1` will automatically decide the number of dimensions. If we had 10x10 elements and called x.view(-1,20) we would get a 5x20 tensor. In this case we make it a 1 x 16 * 5 * 5 tensor because we know we made 6 feature maps with 5x5 kernels in the first convolution and 16 feature maps with 5x5 kernels in the second convolution. \n",
    "\n",
    "This means we only look at the final convolution before we make everything flat and say 16 maps * 5 width * 5 height kernel.\n",
    "\n",
    "Lastly notice that our final layer for our network is not activated with any function like relu. This is actually wierd for people who have used Keras.\n",
    "\n",
    "In Pytorch the activation is part of the loss function or `criterion`\n",
    "\n",
    "If you are going to use your GPU device or devices to train the network make sure to always send your network and the X and y data to the GPU by callin .cuda()"
   ]
  },
  {
   "cell_type": "code",
   "execution_count": 11,
   "metadata": {},
   "outputs": [],
   "source": [
    "import torch.optim as optim\n",
    "\n",
    "criterion = nn.CrossEntropyLoss()\n",
    "optimizer = optim.SGD(net.parameters(), lr=0.001, momentum=0.9)"
   ]
  },
  {
   "cell_type": "markdown",
   "metadata": {},
   "source": [
    "This shouldn't surpise anyone, we are doing classification.\n",
    "\n",
    "It may be valueble to run concurrent loops and test a few reasonable paramaters with early stopping of your choice. In general sticking to the known appropriate loss functions and optimizers will give you reasonable results out the box."
   ]
  },
  {
   "cell_type": "code",
   "execution_count": 12,
   "metadata": {},
   "outputs": [
    {
     "name": "stdout",
     "output_type": "stream",
     "text": [
      "[1,  2000] loss: 2.194\n",
      "[1,  4000] loss: 1.866\n",
      "[1,  6000] loss: 1.673\n",
      "[1,  8000] loss: 1.588\n",
      "[1, 10000] loss: 1.497\n",
      "[1, 12000] loss: 1.459\n",
      "[2,  2000] loss: 1.402\n",
      "[2,  4000] loss: 1.379\n",
      "[2,  6000] loss: 1.325\n",
      "[2,  8000] loss: 1.345\n",
      "[2, 10000] loss: 1.290\n",
      "[2, 12000] loss: 1.268\n",
      "Finished Training\n"
     ]
    }
   ],
   "source": [
    "for epoch in range(2):  # loop over the dataset multiple times\n",
    "\n",
    "    running_loss = 0.0\n",
    "    for i, data in enumerate(trainloader, 0):\n",
    "        # get the inputs\n",
    "        inputs, labels = data\n",
    "        inputs = inputs.cuda()\n",
    "        labels = labels.cuda()\n",
    "\n",
    "        # zero the parameter gradients\n",
    "        optimizer.zero_grad()\n",
    "\n",
    "        # forward + backward + optimize\n",
    "        outputs = net(inputs)\n",
    "        loss = criterion(outputs, labels)\n",
    "        loss.backward()\n",
    "        optimizer.step()\n",
    "\n",
    "        # print statistics\n",
    "        running_loss += loss.item()\n",
    "        if i % 2000 == 1999:    # print every 2000 mini-batches\n",
    "            print('[%d, %5d] loss: %.3f' %\n",
    "                  (epoch + 1, i + 1, running_loss / 2000))\n",
    "            running_loss = 0.0\n",
    "\n",
    "print('Finished Training')"
   ]
  },
  {
   "cell_type": "markdown",
   "metadata": {},
   "source": [
    "The training in Pytorch is not compiled! So we can do our own operations on each loop and even change the layout or batch size / parameters!\n",
    "\n",
    "- For every training epoch (1 pass over the data)  \n",
    "\n",
    "- As we have said before we iterate over the data loader. \n",
    "\n",
    "Before this batch is processed we first reset the gradients for updating the weights.  \n",
    "Now we feed the network our data calling `net(` with our data.  \n",
    "We measure the loss using the network output and the known labels.  \n",
    "`loss.backward()` now recalculates those gradients we need to update the weights.  \n",
    "And we update the weights by telling the optimizer to do a step or update.  "
   ]
  },
  {
   "cell_type": "code",
   "execution_count": null,
   "metadata": {},
   "outputs": [],
   "source": [
    "dataiter = iter(testloader)\n",
    "images, labels = dataiter.next()"
   ]
  },
  {
   "cell_type": "code",
   "execution_count": 23,
   "metadata": {},
   "outputs": [
    {
     "data": {
      "image/png": "[encoded data removed]",
      "text/plain": [
       "<Figure size 432x288 with 1 Axes>"
      ]
     },
     "metadata": {},
     "output_type": "display_data"
    },
    {
     "name": "stdout",
     "output_type": "stream",
     "text": [
      "GroundTruth:    cat  ship  ship plane\n"
     ]
    }
   ],
   "source": [
    "# print images\n",
    "imshow(torchvision.utils.make_grid(images))\n",
    "print('GroundTruth: ', ' '.join('%5s' % classes[labels[j]] for j in range(4)))"
   ]
  },
  {
   "cell_type": "code",
   "execution_count": 25,
   "metadata": {},
   "outputs": [],
   "source": [
    "outputs = net(images.cuda())"
   ]
  },
  {
   "cell_type": "code",
   "execution_count": 26,
   "metadata": {},
   "outputs": [
    {
     "name": "stdout",
     "output_type": "stream",
     "text": [
      "Predicted:    cat plane plane plane\n"
     ]
    }
   ],
   "source": [
    "_, predicted = torch.max(outputs, 1)\n",
    "\n",
    "print('Predicted: ', ' '.join('%5s' % classes[predicted[j]]\n",
    "                              for j in range(4)))\n"
   ]
  },
  {
   "cell_type": "code",
   "execution_count": 28,
   "metadata": {},
   "outputs": [
    {
     "name": "stdout",
     "output_type": "stream",
     "text": [
      "Accuracy of the network on the 10000 test images: 55 %\n"
     ]
    }
   ],
   "source": [
    "correct = 0\n",
    "total = 0\n",
    "with torch.no_grad():\n",
    "    for data in testloader:\n",
    "        images, labels = data\n",
    "        images = images.cuda()\n",
    "        labels = labels.cuda()\n",
    "        outputs = net(images)\n",
    "        _, predicted = torch.max(outputs.data, 1)\n",
    "        total += labels.size(0)\n",
    "        correct += (predicted == labels).sum().item()\n",
    "\n",
    "print('Accuracy of the network on the 10000 test images: %d %%' % (\n",
    "    100 * correct / total))\n"
   ]
  },
  {
   "cell_type": "markdown",
   "metadata": {},
   "source": [
    "Randomly picking a class would give you 10% accuracy.\n",
    "\n",
    "`torch.max` applies an argmax over the second dimensions (1). The predicted data holds the image label predictions for a batch of 4 images, so we are talking about 4 images on the first dimension (0) and 10 label probabilities in the second dimension (1).\n",
    "\n",
    "As shown here;\n"
   ]
  },
  {
   "cell_type": "code",
   "execution_count": 30,
   "metadata": {},
   "outputs": [
    {
     "data": {
      "text/plain": [
       "tensor([[-2.3052, -2.7285,  1.1241,  2.4526,  2.3835,  1.9879,  3.1778,  0.2916,\n",
       "         -3.0572, -2.7190],\n",
       "        [-2.0053, -4.1474,  2.1770,  3.2337,  0.0360,  4.9274, -0.7445,  2.1943,\n",
       "         -2.4243, -2.4913],\n",
       "        [ 1.9611,  2.2429,  0.2223,  0.2912,  1.6246, -1.2156, -2.9860,  0.3143,\n",
       "         -1.5868, -1.8333],\n",
       "        [-1.3149, -1.9906,  1.0426,  0.7702,  2.6405,  0.6520, -0.0588,  2.9074,\n",
       "         -2.9705, -2.1203]], device='cuda:0')"
      ]
     },
     "execution_count": 30,
     "metadata": {},
     "output_type": "execute_result"
    }
   ],
   "source": [
    "outputs.data"
   ]
  },
  {
   "cell_type": "code",
   "execution_count": 32,
   "metadata": {},
   "outputs": [
    {
     "data": {
      "image/png": "[encoded data removed]",
      "text/plain": [
       "<Figure size 432x288 with 1 Axes>"
      ]
     },
     "metadata": {},
     "output_type": "display_data"
    }
   ],
   "source": [
    "imshow(torchvision.utils.make_grid(images.cpu()))"
   ]
  },
  {
   "cell_type": "markdown",
   "metadata": {},
   "source": [
    "Pytorch is easy to apply and very powerful!\n",
    "\n",
    "Go forth and matrix multiply!"
   ]
  }
 ],
 "metadata": {
  "kernelspec": {
   "display_name": "pytorch",
   "language": "python",
   "name": "pytorch"
  },
  "language_info": {
   "codemirror_mode": {
    "name": "ipython",
    "version": 3
   },
   "file_extension": ".py",
   "mimetype": "text/x-python",
   "name": "python",
   "nbconvert_exporter": "python",
   "pygments_lexer": "ipython3",
   "version": "3.6.5"
  }
 },
 "nbformat": 4,
 "nbformat_minor": 2
}
